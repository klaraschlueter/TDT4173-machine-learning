{
 "cells": [
  {
   "cell_type": "code",
   "execution_count": 1,
   "metadata": {},
   "outputs": [],
   "source": [
    "import numpy as np\n",
    "import sklearn.tree as st"
   ]
  },
  {
   "cell_type": "code",
   "execution_count": 2,
   "metadata": {},
   "outputs": [],
   "source": [
    "import pandas as pd\n",
    "\n",
    "X_train = pd.read_csv('../../data/adaboost_train.csv', usecols=range(2,12))\n",
    "y_train = pd.read_csv('../../data/adaboost_train.csv', usecols=[1])\n",
    "\n",
    "X_test = pd.read_csv('../../data/adaboost_test.csv', usecols=range(2,12))\n",
    "y_test = pd.read_csv('../../data/adaboost_test.csv', usecols=[1])\n",
    "\n"
   ]
  },
  {
   "cell_type": "code",
   "execution_count": 3,
   "metadata": {},
   "outputs": [],
   "source": [
    "def adaBoost(X, y, T):\n",
    "    \n",
    "    m = len(X)\n",
    "    f = list()\n",
    "    a = list()\n",
    "    e = list()\n",
    "    dtc_gen = st.DecisionTreeClassifier()\n",
    "    \n",
    "    D = [1/m] * m\n",
    "    for t in range(0, T):\n",
    "        \n",
    "        # Training classifier\n",
    "        f_t = dtc_gen.fit(X_train, y_train, sample_weight = D)\n",
    "        f.append(f_t)\n",
    "        \n",
    "        # Determine indices of wrong predictions\n",
    "        wrong_indices = []\n",
    "        predictions = f_t.predict(X)\n",
    "        targets = np.array(y).flatten()\n",
    "        for i in range(0, m):\n",
    "            if predictions[i] != targets[i]:\n",
    "                wrong_indices.append(i)\n",
    "        \n",
    "        # Calculating error\n",
    "        e_t = sum([D[i] for i in wrong_indices]) + 10**(-300)\n",
    "        e.append(e_t)\n",
    "        \n",
    "        # Determining, 'how much say' the classifier has in the final vote\n",
    "        a_t = 1/2 * np.log((1 - e_t) / e_t)\n",
    "        a.append(a_t)\n",
    "        \n",
    "        # Updating weight distribution\n",
    "        D = [D[i] * np.exp(-a_t * targets[i] * predictions[i]) for i in range(0,m)]\n",
    "        z_t = sum(D)\n",
    "        D = [w/z_t for w in D]\n",
    "        \n",
    "    def votedClassifier(X):\n",
    "        \n",
    "        predictions = [f[i].predict(X) for i in range(0,T)]\n",
    "        predictions = np.array(predictions).transpose()\n",
    "        \n",
    "        classes = [np.sign(sum([a[t] * predictions[i][t] for t in range(0, T)])) for i in range(0, len(X))]\n",
    "        \n",
    "        return classes\n",
    "        \n",
    "    return votedClassifier\n",
    "    "
   ]
  },
  {
   "cell_type": "code",
   "execution_count": 5,
   "metadata": {},
   "outputs": [
    {
     "data": {
      "image/png": "[encoded data removed]",
      "text/plain": [
       "<Figure size 432x288 with 1 Axes>"
      ]
     },
     "metadata": {
      "needs_background": "light"
     },
     "output_type": "display_data"
    }
   ],
   "source": [
    "import matplotlib.pyplot as plt\n",
    "\n",
    "maxT = 10\n",
    "\n",
    "classifier = [adaBoost(X_train, y_train, T) for T in range (0,maxT)]\n",
    "\n",
    "x_axis_vals = range(0, maxT)\n",
    "y_axis_vals_train = [list(classifier[i](X_train) == np.array(y_train).flatten()).count(False) for i in x_axis_vals]\n",
    "y_axis_vals_test = [list(classifier[i](X_test) == np.array(y_test).flatten()).count(False) for i in x_axis_vals]\n",
    "\n",
    "\n",
    "train = plt.plot(x_axis_vals, y_axis_vals_train, color = \"C0\", label = \"training data\")\n",
    "train = plt.plot(x_axis_vals, y_axis_vals_test, color = \"C2\", label = \"test data\")\n",
    "\n",
    "plt.legend()\n",
    "plt.show()"
   ]
  },
  {
   "cell_type": "code",
   "execution_count": null,
   "metadata": {},
   "outputs": [],
   "source": []
  }
 ],
 "metadata": {
  "kernelspec": {
   "display_name": "Python 3",
   "language": "python",
   "name": "python3"
  },
  "language_info": {
   "codemirror_mode": {
    "name": "ipython",
    "version": 3
   },
   "file_extension": ".py",
   "mimetype": "text/x-python",
   "name": "python",
   "nbconvert_exporter": "python",
   "pygments_lexer": "ipython3",
   "version": "3.5.3"
  }
 },
 "nbformat": 4,
 "nbformat_minor": 2
}
