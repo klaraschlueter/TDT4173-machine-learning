{
 "cells": [
  {
   "cell_type": "markdown",
   "metadata": {},
   "source": [
    "# Implemenation\n",
    "\n",
    "### Helper functions"
   ]
  },
  {
   "cell_type": "code",
   "execution_count": 1,
   "metadata": {},
   "outputs": [],
   "source": [
    "import pandas as pd\n",
    "import numpy as np\n",
    "\n",
    "def get_dataset(data_path):\n",
    "    \"\"\" Load the data set at the given location and return as an numpy array.\n",
    "    \n",
    "    Arguments:\n",
    "    data_path: The path to the file containing the data. The file must be a .csv of the\n",
    "               form described in the assignment.\n",
    "    dim: The dimension of each example. E.g. The entry (x1, x2, y) has dimension 2.\n",
    "    \n",
    "    Returns:\n",
    "    The data set as numpy array.\n",
    "    \n",
    "    \"\"\"\n",
    "    return np.array(pd.read_csv(data_path))\n",
    "\n",
    "def euclidean(a, b):\n",
    "    \"\"\" Calculates the euclidean distance between the two given points.\"\"\"\n",
    "    return np.linalg.norm(a - b)"
   ]
  },
  {
   "cell_type": "markdown",
   "metadata": {},
   "source": [
    "\n",
    "### Basic k-NN search"
   ]
  },
  {
   "cell_type": "code",
   "execution_count": 2,
   "metadata": {},
   "outputs": [],
   "source": [
    "def kNN_indices(query_point, k, candidates, dim):\n",
    "    \"\"\"\n",
    "    Returns the indices of the k nearest neighbours of the query point.\n",
    "    \n",
    "    Arguments:\n",
    "    query_point: The query point.\n",
    "    k: The number of nearest neighbours to calculate.\n",
    "    candidates: The dataset containing the known points to compare with.\n",
    "    dim: The dimension of each example point. E.g. The entry (x1, x2, y) has dimension 2.\n",
    "    \n",
    "    Returns:\n",
    "    A list of indices representing the nearest neighbours in the candidate set.\n",
    "    \n",
    "    \"\"\"\n",
    "    \n",
    "    distances = []\n",
    "    for i in range(0, len(candidates)):\n",
    "        dis = euclidean(query_point, candidates[i][0:dim])\n",
    "        distances.append(dis)\n",
    "    \n",
    "    ordered_indices = np.argsort(distances)\n",
    "    k_nearest_indices = ordered_indices[:k]\n",
    "    \n",
    "    return k_nearest_indices\n",
    "    \n",
    "\n",
    "def kNN_results(query_point, k, candidates, dim):\n",
    "    \"\"\"\n",
    "    Returns the y value of the target function for the k nearest neighbours of the query point.\n",
    "    \n",
    "    Arguments:\n",
    "    query_point: The query point.\n",
    "    k: The number of nearest neighbours to calculate.\n",
    "    candidates: The dataset containing the known points to compare with.\n",
    "    dim: The dimension of each example point. E.g. The entry (x1, x2, y) has dimension 2.\n",
    "    \n",
    "    Returns:\n",
    "    A list containing the value of the target function for each of the k nearest neighbours.\n",
    "    \n",
    "    \"\"\"\n",
    "    \n",
    "    k_nearest_indices = kNN_indices(query_point, k, candidates, dim)\n",
    "    k_nearest_results = [candidates[i][dim] for i in k_nearest_indices]\n",
    "    \n",
    "    return k_nearest_results"
   ]
  },
  {
   "cell_type": "markdown",
   "metadata": {},
   "source": [
    "### Regression and Classification using k-NN\n",
    "\n",
    "As suggested in the assignment sheet, the regression is based on simple mean and the classification is based on voting."
   ]
  },
  {
   "cell_type": "code",
   "execution_count": 3,
   "metadata": {},
   "outputs": [],
   "source": [
    "from collections import Counter\n",
    "\n",
    "def kNN_regression(query_point, k, candidates, dim):\n",
    "    \"\"\"\n",
    "    Predicts the target function value for the query_point using k-NN regression.\n",
    "    \n",
    "    Arguments:\n",
    "    query_point: The query point.\n",
    "    k: The number of nearest neighbours to calculate.\n",
    "    candidates: The dataset containing the known points to compare with.\n",
    "    dim: The dimension of each example point. E.g. The entry (x1, x2, y) has dimension 2.\n",
    "    \n",
    "    Returns:\n",
    "    The predicted value.\n",
    "    \n",
    "    \"\"\"\n",
    "    \n",
    "    k_nearest_results = kNN_results(query_point, k, candidates, dim)\n",
    "    prediction = np.mean(k_nearest_results)\n",
    "    return prediction\n",
    "\n",
    "def kNN_classification(query_point, k, candidates, dim):\n",
    "    \"\"\"\n",
    "    Predicts the target function value for the query_point using k-NN classification.\n",
    "    \n",
    "    Arguments:\n",
    "    query_point: The query point.\n",
    "    k: The number of nearest neighbours to calculate.\n",
    "    candidates: The dataset containing the known points to compare with.\n",
    "    dim: The dimension of each example point. E.g. The entry (x1, x2, y) has dimension 2.\n",
    "    \n",
    "    Returns:\n",
    "    The predicted value.\n",
    "    \n",
    "    \"\"\"\n",
    "    \n",
    "    k_nearest_results = kNN_results(query_point, k, candidates, dim)\n",
    "    prediction = Counter(k_nearest_results).most_common(1)[0][0]\n",
    "    return prediction"
   ]
  },
  {
   "cell_type": "markdown",
   "metadata": {},
   "source": [
    "# Tests\n",
    "\n",
    "Loading test data:"
   ]
  },
  {
   "cell_type": "code",
   "execution_count": 4,
   "metadata": {},
   "outputs": [],
   "source": [
    "reg_set = get_dataset('../../data/knn_regression.csv')\n",
    "clas_set = get_dataset('../../data/knn_classification.csv')\n",
    "\n",
    "reg_query = reg_set[123][0:3]\n",
    "reg_exp = reg_set[123][3]\n",
    "clas_query = clas_set[123][0:4]\n",
    "clas_exp = clas_set[123][4]"
   ]
  },
  {
   "cell_type": "markdown",
   "metadata": {},
   "source": [
    "## k-NN Regression\n",
    "\n",
    "### Test result:"
   ]
  },
  {
   "cell_type": "code",
   "execution_count": 5,
   "metadata": {},
   "outputs": [
    {
     "name": "stdout",
     "output_type": "stream",
     "text": [
      "target y:  1.8\n",
      "prediction:  1.6\n"
     ]
    }
   ],
   "source": [
    "print(\"target y: \", reg_exp)\n",
    "print(\"prediction: \", kNN_regression(reg_query, 10, reg_set, 3))"
   ]
  },
  {
   "cell_type": "markdown",
   "metadata": {},
   "source": [
    "### Nearest neighbours:"
   ]
  },
  {
   "cell_type": "code",
   "execution_count": 6,
   "metadata": {},
   "outputs": [
    {
     "data": {
      "text/html": [
       "<div>\n",
       "<style scoped>\n",
       "    .dataframe tbody tr th:only-of-type {\n",
       "        vertical-align: middle;\n",
       "    }\n",
       "\n",
       "    .dataframe tbody tr th {\n",
       "        vertical-align: top;\n",
       "    }\n",
       "\n",
       "    .dataframe thead th {\n",
       "        text-align: right;\n",
       "    }\n",
       "</style>\n",
       "<table border=\"1\" class=\"dataframe\">\n",
       "  <thead>\n",
       "    <tr style=\"text-align: right;\">\n",
       "      <th></th>\n",
       "      <th>x1</th>\n",
       "      <th>x2</th>\n",
       "      <th>x3</th>\n",
       "      <th>y</th>\n",
       "    </tr>\n",
       "  </thead>\n",
       "  <tbody>\n",
       "    <tr>\n",
       "      <th>0</th>\n",
       "      <td>6.3</td>\n",
       "      <td>2.7</td>\n",
       "      <td>4.9</td>\n",
       "      <td>1.8</td>\n",
       "    </tr>\n",
       "    <tr>\n",
       "      <th>1</th>\n",
       "      <td>6.2</td>\n",
       "      <td>2.8</td>\n",
       "      <td>4.8</td>\n",
       "      <td>1.8</td>\n",
       "    </tr>\n",
       "    <tr>\n",
       "      <th>2</th>\n",
       "      <td>6.3</td>\n",
       "      <td>2.5</td>\n",
       "      <td>4.9</td>\n",
       "      <td>1.5</td>\n",
       "    </tr>\n",
       "    <tr>\n",
       "      <th>3</th>\n",
       "      <td>6.3</td>\n",
       "      <td>2.8</td>\n",
       "      <td>5.1</td>\n",
       "      <td>1.5</td>\n",
       "    </tr>\n",
       "    <tr>\n",
       "      <th>4</th>\n",
       "      <td>6.3</td>\n",
       "      <td>2.5</td>\n",
       "      <td>5.0</td>\n",
       "      <td>1.9</td>\n",
       "    </tr>\n",
       "    <tr>\n",
       "      <th>5</th>\n",
       "      <td>6.1</td>\n",
       "      <td>2.8</td>\n",
       "      <td>4.7</td>\n",
       "      <td>1.2</td>\n",
       "    </tr>\n",
       "    <tr>\n",
       "      <th>6</th>\n",
       "      <td>6.1</td>\n",
       "      <td>2.9</td>\n",
       "      <td>4.7</td>\n",
       "      <td>1.4</td>\n",
       "    </tr>\n",
       "    <tr>\n",
       "      <th>7</th>\n",
       "      <td>6.0</td>\n",
       "      <td>2.7</td>\n",
       "      <td>5.1</td>\n",
       "      <td>1.6</td>\n",
       "    </tr>\n",
       "    <tr>\n",
       "      <th>8</th>\n",
       "      <td>6.1</td>\n",
       "      <td>3.0</td>\n",
       "      <td>4.9</td>\n",
       "      <td>1.8</td>\n",
       "    </tr>\n",
       "    <tr>\n",
       "      <th>9</th>\n",
       "      <td>6.5</td>\n",
       "      <td>2.8</td>\n",
       "      <td>4.6</td>\n",
       "      <td>1.5</td>\n",
       "    </tr>\n",
       "  </tbody>\n",
       "</table>\n",
       "</div>"
      ],
      "text/plain": [
       "    x1   x2   x3    y\n",
       "0  6.3  2.7  4.9  1.8\n",
       "1  6.2  2.8  4.8  1.8\n",
       "2  6.3  2.5  4.9  1.5\n",
       "3  6.3  2.8  5.1  1.5\n",
       "4  6.3  2.5  5.0  1.9\n",
       "5  6.1  2.8  4.7  1.2\n",
       "6  6.1  2.9  4.7  1.4\n",
       "7  6.0  2.7  5.1  1.6\n",
       "8  6.1  3.0  4.9  1.8\n",
       "9  6.5  2.8  4.6  1.5"
      ]
     },
     "execution_count": 6,
     "metadata": {},
     "output_type": "execute_result"
    }
   ],
   "source": [
    "pd.DataFrame([reg_set[i] for i in kNN_indices(reg_query, 10, reg_set, 3)],\n",
    "            columns = ['x1', 'x2', 'x3', 'y'])"
   ]
  },
  {
   "cell_type": "markdown",
   "metadata": {},
   "source": [
    "## k-NN Classification\n",
    "\n",
    "### Test result:"
   ]
  },
  {
   "cell_type": "code",
   "execution_count": 7,
   "metadata": {},
   "outputs": [
    {
     "name": "stdout",
     "output_type": "stream",
     "text": [
      "target y:  2.0\n",
      "prediction:  2.0\n"
     ]
    }
   ],
   "source": [
    "print(\"target y: \", clas_exp)\n",
    "print(\"prediction: \", kNN_classification(clas_query, 10, clas_set, 4))"
   ]
  },
  {
   "cell_type": "markdown",
   "metadata": {},
   "source": [
    "### Nearest Neighbours:"
   ]
  },
  {
   "cell_type": "code",
   "execution_count": 8,
   "metadata": {},
   "outputs": [
    {
     "data": {
      "text/html": [
       "<div>\n",
       "<style scoped>\n",
       "    .dataframe tbody tr th:only-of-type {\n",
       "        vertical-align: middle;\n",
       "    }\n",
       "\n",
       "    .dataframe tbody tr th {\n",
       "        vertical-align: top;\n",
       "    }\n",
       "\n",
       "    .dataframe thead th {\n",
       "        text-align: right;\n",
       "    }\n",
       "</style>\n",
       "<table border=\"1\" class=\"dataframe\">\n",
       "  <thead>\n",
       "    <tr style=\"text-align: right;\">\n",
       "      <th></th>\n",
       "      <th>x1</th>\n",
       "      <th>x2</th>\n",
       "      <th>x3</th>\n",
       "      <th>x4</th>\n",
       "      <th>y</th>\n",
       "    </tr>\n",
       "  </thead>\n",
       "  <tbody>\n",
       "    <tr>\n",
       "      <th>0</th>\n",
       "      <td>6.3</td>\n",
       "      <td>2.7</td>\n",
       "      <td>4.9</td>\n",
       "      <td>1.8</td>\n",
       "      <td>2.0</td>\n",
       "    </tr>\n",
       "    <tr>\n",
       "      <th>1</th>\n",
       "      <td>6.2</td>\n",
       "      <td>2.8</td>\n",
       "      <td>4.8</td>\n",
       "      <td>1.8</td>\n",
       "      <td>2.0</td>\n",
       "    </tr>\n",
       "    <tr>\n",
       "      <th>2</th>\n",
       "      <td>6.3</td>\n",
       "      <td>2.5</td>\n",
       "      <td>5.0</td>\n",
       "      <td>1.9</td>\n",
       "      <td>2.0</td>\n",
       "    </tr>\n",
       "    <tr>\n",
       "      <th>3</th>\n",
       "      <td>6.1</td>\n",
       "      <td>3.0</td>\n",
       "      <td>4.9</td>\n",
       "      <td>1.8</td>\n",
       "      <td>2.0</td>\n",
       "    </tr>\n",
       "    <tr>\n",
       "      <th>4</th>\n",
       "      <td>6.3</td>\n",
       "      <td>2.5</td>\n",
       "      <td>4.9</td>\n",
       "      <td>1.5</td>\n",
       "      <td>1.0</td>\n",
       "    </tr>\n",
       "    <tr>\n",
       "      <th>5</th>\n",
       "      <td>6.3</td>\n",
       "      <td>2.8</td>\n",
       "      <td>5.1</td>\n",
       "      <td>1.5</td>\n",
       "      <td>2.0</td>\n",
       "    </tr>\n",
       "    <tr>\n",
       "      <th>6</th>\n",
       "      <td>6.0</td>\n",
       "      <td>2.7</td>\n",
       "      <td>5.1</td>\n",
       "      <td>1.6</td>\n",
       "      <td>1.0</td>\n",
       "    </tr>\n",
       "    <tr>\n",
       "      <th>7</th>\n",
       "      <td>6.4</td>\n",
       "      <td>2.7</td>\n",
       "      <td>5.3</td>\n",
       "      <td>1.9</td>\n",
       "      <td>2.0</td>\n",
       "    </tr>\n",
       "    <tr>\n",
       "      <th>8</th>\n",
       "      <td>6.0</td>\n",
       "      <td>3.0</td>\n",
       "      <td>4.8</td>\n",
       "      <td>1.8</td>\n",
       "      <td>2.0</td>\n",
       "    </tr>\n",
       "    <tr>\n",
       "      <th>9</th>\n",
       "      <td>6.5</td>\n",
       "      <td>2.8</td>\n",
       "      <td>4.6</td>\n",
       "      <td>1.5</td>\n",
       "      <td>1.0</td>\n",
       "    </tr>\n",
       "  </tbody>\n",
       "</table>\n",
       "</div>"
      ],
      "text/plain": [
       "    x1   x2   x3   x4    y\n",
       "0  6.3  2.7  4.9  1.8  2.0\n",
       "1  6.2  2.8  4.8  1.8  2.0\n",
       "2  6.3  2.5  5.0  1.9  2.0\n",
       "3  6.1  3.0  4.9  1.8  2.0\n",
       "4  6.3  2.5  4.9  1.5  1.0\n",
       "5  6.3  2.8  5.1  1.5  2.0\n",
       "6  6.0  2.7  5.1  1.6  1.0\n",
       "7  6.4  2.7  5.3  1.9  2.0\n",
       "8  6.0  3.0  4.8  1.8  2.0\n",
       "9  6.5  2.8  4.6  1.5  1.0"
      ]
     },
     "execution_count": 8,
     "metadata": {},
     "output_type": "execute_result"
    }
   ],
   "source": [
    "pd.DataFrame([clas_set[i] for i in kNN_indices(clas_query, 10, clas_set, 4)],\n",
    "            columns = ['x1', 'x2', 'x3', 'x4', 'y'])"
   ]
  },
  {
   "cell_type": "code",
   "execution_count": null,
   "metadata": {},
   "outputs": [],
   "source": []
  }
 ],
 "metadata": {
  "kernelspec": {
   "display_name": "Python 3",
   "language": "python",
   "name": "python3"
  },
  "language_info": {
   "codemirror_mode": {
    "name": "ipython",
    "version": 3
   },
   "file_extension": ".py",
   "mimetype": "text/x-python",
   "name": "python",
   "nbconvert_exporter": "python",
   "pygments_lexer": "ipython3",
   "version": "3.5.3"
  }
 },
 "nbformat": 4,
 "nbformat_minor": 2
}
